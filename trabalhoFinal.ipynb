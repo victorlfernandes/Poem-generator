{
  "nbformat": 4,
  "nbformat_minor": 0,
  "metadata": {
    "colab": {
      "provenance": [],
      "collapsed_sections": [
        "sFEzxLOBns6A"
      ]
    },
    "kernelspec": {
      "name": "python3",
      "display_name": "Python 3"
    },
    "language_info": {
      "name": "python"
    }
  },
  "cells": [
    {
      "cell_type": "markdown",
      "source": [
        "# Álgebra Linear e Aplicações (SME0142) - Trabalho Final\n",
        "\n",
        "Nome: Victor Lucas de Almeida Fernandes\n",
        "\n",
        "\n",
        "Número USP: 12675399\n",
        "\n",
        "Link do vídeo: [aqui](https://drive.google.com/file/d/19L_05i7I27-dgnMWjJLzR7eSMVQVAJlk/view?usp=share_link)\n"
      ],
      "metadata": {
        "id": "hthu9aW-8LOP"
      }
    },
    {
      "cell_type": "markdown",
      "source": [
        "# Cadeias de Markov"
      ],
      "metadata": {
        "id": "bKd1JYOc93Yq"
      }
    },
    {
      "cell_type": "markdown",
      "source": [
        "## Introdução"
      ],
      "metadata": {
        "id": "4wgvby7LnexX"
      }
    },
    {
      "cell_type": "markdown",
      "source": [
        "Escolhi desenvolver o trabalho sobre as cadeias de Markov pois, ao pesquisar sobre o tema, achei muito interessante as suas aplicações.\n",
        "As principais que encontrei foram no motor de pesquisa do Google (PageRank), na teoria de filas, na modelagem genética de populações e na composição de músicas algorítimicas.\n",
        "\n",
        "Ademais, por elas estarem intimamente relacionadas com a matéria de estatística, que estou cursando, e de processos estocásticos, do próximo semestre, acredito que além de auxiliar na consolidação dos aprendizados de Álgebra Linear, o trabalho também ajuda em outras disciplinas da graduação.\n",
        "\n",
        "No entanto, a maior motivação para a escolha desse tópico foram os geradores de texto de Markov, aplicação sobre a qual o trabalho será desenvolvido."
      ],
      "metadata": {
        "id": "lDNzlfvD97ep"
      }
    },
    {
      "cell_type": "markdown",
      "source": [
        "## Parte teórica"
      ],
      "metadata": {
        "id": "zQNA8B-0mzF8"
      }
    },
    {
      "cell_type": "markdown",
      "source": [
        "\n",
        "### Propriedade de Markov\n",
        "Um processo estocástico satisfaz a propriedade de Markov quando podemos fazer previsões sobre o seu futuro somente com base no seu estado atual. Assim, desconsideramos a sequência de eventos precedentes no cálculo da distribuição de probabilidade do próximo estado.  \n"
      ],
      "metadata": {
        "id": "Sy2HVkuMm1tb"
      }
    },
    {
      "cell_type": "markdown",
      "source": [
        "\n",
        "### Cadeia de Markov\n",
        "Denotamos como cadeia de Markov um processo estocástico que segue a propriedade de markoviana.\n"
      ],
      "metadata": {
        "id": "3s0nq2ODm7FL"
      }
    },
    {
      "cell_type": "markdown",
      "source": [
        "### Aplicação da definição nos geradores de texto de Markov\n",
        "\n",
        "Vamos usar um gerador probabilístico de textos para exemplificar o conceito apresentado.\n",
        "\n",
        "Considere as seguintes frases como banco de treinamento do nosso algoritmo:\n",
        "- Oi , tudo bem ?\n",
        "- Oi , está certo ?\n",
        "- Oi , está bem ?\n",
        "\n",
        "Seja cada palavra um estado do nosso processo. Conseguimos definir a distribuição de probabilidade de transição de uma palavra para outra na nossa amostra.\n",
        "\n",
        "Por exemplo, se o estado atual é a palavra *Oi*, temos 100% de certeza que o próximo estado será uma vírgula.\n",
        "\n",
        "Se o estado atual é uma vírgula, temos 33% de chance de ir para o estado *tudo* e 67% para o estado *está*.\n",
        "\n",
        "E assim sucessivamente. Repare que a probabilidade que calculamos para o estado da vírgula não depende do passado do processo, ou seja, da probabilidade do estado *Oi*. Por isso, podemos considerar que estamos tratando de um processo de Markov.\n",
        "\n",
        "Com base nessa lógica, conseguimos montar a seguinte cadeia de Markov:\n",
        "\n",
        "![picture](https://drive.google.com/uc?id=1mqU3s-s3mvn4_z2skRmM2eFO4AVX9Ihn)\n",
        "\n",
        "A aplicação desse conceito que será desenvolvida consiste em um gerador de poemas.\n",
        "\n",
        "O banco de frases será obtido com base em diversos poemas de amor com palavras semelhantes. O algoritmo irá criar um poema original baseado nas probabilidades de transição de estados de Markov derivadas desse textos.\n",
        "\n",
        "Ao representar as cadeias computacionalmente, seguindo o nosso exemplo, teríamos o seguinte:\n",
        "- Oi: [vírgula]\n",
        "- Vírgula: [está, está, tudo]\n",
        "- tudo: [bem]\n",
        "- está: [bem, certo]\n",
        "- bem: [?]\n",
        "- certo: [?]\n",
        "\n",
        "\n",
        "Ao sortear aleatóriamente uma palavra dessa lista de estados sucessores, obtemos a probabilidade desejada.\n"
      ],
      "metadata": {
        "id": "gh8wLEUEnBiZ"
      }
    },
    {
      "cell_type": "markdown",
      "source": [
        "## Parte prática"
      ],
      "metadata": {
        "id": "LegpJNCCn41N"
      }
    },
    {
      "cell_type": "code",
      "source": [
        "# Importando bibliotecas e o arquivo texto com o banco de frases\n",
        "import numpy as np\n",
        "from google.colab import files\n",
        "\n",
        "files.upload()\n",
        "bancoDeFrases = open('bancoDeFrases.txt').read()\n",
        "\n",
        "print(bancoDeFrases)"
      ],
      "metadata": {
        "colab": {
          "base_uri": "https://localhost:8080/",
          "height": 1000
        },
        "id": "dlfqqxJtWPaO",
        "outputId": "f625517b-bd75-4981-9d7a-36f0f6f5bb85"
      },
      "execution_count": null,
      "outputs": [
        {
          "output_type": "display_data",
          "data": {
            "text/plain": [
              "<IPython.core.display.HTML object>"
            ],
            "text/html": [
              "\n",
              "     <input type=\"file\" id=\"files-8fb2248b-1b22-42b5-9a28-3e8c4321fbba\" name=\"files[]\" multiple disabled\n",
              "        style=\"border:none\" />\n",
              "     <output id=\"result-8fb2248b-1b22-42b5-9a28-3e8c4321fbba\">\n",
              "      Upload widget is only available when the cell has been executed in the\n",
              "      current browser session. Please rerun this cell to enable.\n",
              "      </output>\n",
              "      <script>// Copyright 2017 Google LLC\n",
              "//\n",
              "// Licensed under the Apache License, Version 2.0 (the \"License\");\n",
              "// you may not use this file except in compliance with the License.\n",
              "// You may obtain a copy of the License at\n",
              "//\n",
              "//      http://www.apache.org/licenses/LICENSE-2.0\n",
              "//\n",
              "// Unless required by applicable law or agreed to in writing, software\n",
              "// distributed under the License is distributed on an \"AS IS\" BASIS,\n",
              "// WITHOUT WARRANTIES OR CONDITIONS OF ANY KIND, either express or implied.\n",
              "// See the License for the specific language governing permissions and\n",
              "// limitations under the License.\n",
              "\n",
              "/**\n",
              " * @fileoverview Helpers for google.colab Python module.\n",
              " */\n",
              "(function(scope) {\n",
              "function span(text, styleAttributes = {}) {\n",
              "  const element = document.createElement('span');\n",
              "  element.textContent = text;\n",
              "  for (const key of Object.keys(styleAttributes)) {\n",
              "    element.style[key] = styleAttributes[key];\n",
              "  }\n",
              "  return element;\n",
              "}\n",
              "\n",
              "// Max number of bytes which will be uploaded at a time.\n",
              "const MAX_PAYLOAD_SIZE = 100 * 1024;\n",
              "\n",
              "function _uploadFiles(inputId, outputId) {\n",
              "  const steps = uploadFilesStep(inputId, outputId);\n",
              "  const outputElement = document.getElementById(outputId);\n",
              "  // Cache steps on the outputElement to make it available for the next call\n",
              "  // to uploadFilesContinue from Python.\n",
              "  outputElement.steps = steps;\n",
              "\n",
              "  return _uploadFilesContinue(outputId);\n",
              "}\n",
              "\n",
              "// This is roughly an async generator (not supported in the browser yet),\n",
              "// where there are multiple asynchronous steps and the Python side is going\n",
              "// to poll for completion of each step.\n",
              "// This uses a Promise to block the python side on completion of each step,\n",
              "// then passes the result of the previous step as the input to the next step.\n",
              "function _uploadFilesContinue(outputId) {\n",
              "  const outputElement = document.getElementById(outputId);\n",
              "  const steps = outputElement.steps;\n",
              "\n",
              "  const next = steps.next(outputElement.lastPromiseValue);\n",
              "  return Promise.resolve(next.value.promise).then((value) => {\n",
              "    // Cache the last promise value to make it available to the next\n",
              "    // step of the generator.\n",
              "    outputElement.lastPromiseValue = value;\n",
              "    return next.value.response;\n",
              "  });\n",
              "}\n",
              "\n",
              "/**\n",
              " * Generator function which is called between each async step of the upload\n",
              " * process.\n",
              " * @param {string} inputId Element ID of the input file picker element.\n",
              " * @param {string} outputId Element ID of the output display.\n",
              " * @return {!Iterable<!Object>} Iterable of next steps.\n",
              " */\n",
              "function* uploadFilesStep(inputId, outputId) {\n",
              "  const inputElement = document.getElementById(inputId);\n",
              "  inputElement.disabled = false;\n",
              "\n",
              "  const outputElement = document.getElementById(outputId);\n",
              "  outputElement.innerHTML = '';\n",
              "\n",
              "  const pickedPromise = new Promise((resolve) => {\n",
              "    inputElement.addEventListener('change', (e) => {\n",
              "      resolve(e.target.files);\n",
              "    });\n",
              "  });\n",
              "\n",
              "  const cancel = document.createElement('button');\n",
              "  inputElement.parentElement.appendChild(cancel);\n",
              "  cancel.textContent = 'Cancel upload';\n",
              "  const cancelPromise = new Promise((resolve) => {\n",
              "    cancel.onclick = () => {\n",
              "      resolve(null);\n",
              "    };\n",
              "  });\n",
              "\n",
              "  // Wait for the user to pick the files.\n",
              "  const files = yield {\n",
              "    promise: Promise.race([pickedPromise, cancelPromise]),\n",
              "    response: {\n",
              "      action: 'starting',\n",
              "    }\n",
              "  };\n",
              "\n",
              "  cancel.remove();\n",
              "\n",
              "  // Disable the input element since further picks are not allowed.\n",
              "  inputElement.disabled = true;\n",
              "\n",
              "  if (!files) {\n",
              "    return {\n",
              "      response: {\n",
              "        action: 'complete',\n",
              "      }\n",
              "    };\n",
              "  }\n",
              "\n",
              "  for (const file of files) {\n",
              "    const li = document.createElement('li');\n",
              "    li.append(span(file.name, {fontWeight: 'bold'}));\n",
              "    li.append(span(\n",
              "        `(${file.type || 'n/a'}) - ${file.size} bytes, ` +\n",
              "        `last modified: ${\n",
              "            file.lastModifiedDate ? file.lastModifiedDate.toLocaleDateString() :\n",
              "                                    'n/a'} - `));\n",
              "    const percent = span('0% done');\n",
              "    li.appendChild(percent);\n",
              "\n",
              "    outputElement.appendChild(li);\n",
              "\n",
              "    const fileDataPromise = new Promise((resolve) => {\n",
              "      const reader = new FileReader();\n",
              "      reader.onload = (e) => {\n",
              "        resolve(e.target.result);\n",
              "      };\n",
              "      reader.readAsArrayBuffer(file);\n",
              "    });\n",
              "    // Wait for the data to be ready.\n",
              "    let fileData = yield {\n",
              "      promise: fileDataPromise,\n",
              "      response: {\n",
              "        action: 'continue',\n",
              "      }\n",
              "    };\n",
              "\n",
              "    // Use a chunked sending to avoid message size limits. See b/62115660.\n",
              "    let position = 0;\n",
              "    do {\n",
              "      const length = Math.min(fileData.byteLength - position, MAX_PAYLOAD_SIZE);\n",
              "      const chunk = new Uint8Array(fileData, position, length);\n",
              "      position += length;\n",
              "\n",
              "      const base64 = btoa(String.fromCharCode.apply(null, chunk));\n",
              "      yield {\n",
              "        response: {\n",
              "          action: 'append',\n",
              "          file: file.name,\n",
              "          data: base64,\n",
              "        },\n",
              "      };\n",
              "\n",
              "      let percentDone = fileData.byteLength === 0 ?\n",
              "          100 :\n",
              "          Math.round((position / fileData.byteLength) * 100);\n",
              "      percent.textContent = `${percentDone}% done`;\n",
              "\n",
              "    } while (position < fileData.byteLength);\n",
              "  }\n",
              "\n",
              "  // All done.\n",
              "  yield {\n",
              "    response: {\n",
              "      action: 'complete',\n",
              "    }\n",
              "  };\n",
              "}\n",
              "\n",
              "scope.google = scope.google || {};\n",
              "scope.google.colab = scope.google.colab || {};\n",
              "scope.google.colab._files = {\n",
              "  _uploadFiles,\n",
              "  _uploadFilesContinue,\n",
              "};\n",
              "})(self);\n",
              "</script> "
            ]
          },
          "metadata": {}
        },
        {
          "output_type": "stream",
          "name": "stdout",
          "text": [
            "Saving bancoDeFrases.txt to bancoDeFrases.txt\n",
            "Amor é um fogo que arde sem se ver;\n",
            "É ferida que dói, e não se sente;\n",
            "É um contentamento descontente;\n",
            "É dor que desatina sem doer.\n",
            "\n",
            "É um não querer mais que bem querer;\n",
            "É um andar solitário entre a gente;\n",
            "É nunca contentar-se e contente;\n",
            "É um cuidar que ganha em se perder;\n",
            "\n",
            "É querer estar preso por vontade;\n",
            "É servir a quem vence, o vencedor;\n",
            "É ter com quem nos mata, lealdade.\n",
            "\n",
            "Mas como causar pode seu favor;\n",
            "Nos corações humanos amizade;\n",
            "Se tão contrário a si é o mesmo Amor.\n",
            "Não te quero senão porque te quero;\n",
            "e de querer-te a não querer-te chego;\n",
            "e de esperar-te quando não te espero;\n",
            "passa meu coração do frio ao fogo.\n",
            "\n",
            "Quero-te apenas porque a ti eu quero;\n",
            "a ti odeio sem fim e, odiando-te, te suplico;\n",
            "e a medida do meu amor viajante;\n",
            "é não ver-te e amar-te como um cego.\n",
            "\n",
            "Consumirá talvez a luz de Janeiro;\n",
            "o seu raio cruel, meu coração inteiro;\n",
            "roubando-me a chave do sossego.\n",
            "\n",
            "Nesta história apenas eu morro;\n",
            "e morrerei de amor porque te quero;\n",
            "porque te quero, amor, a sangue e fogo.\n",
            "\n",
            "De tudo ao meu amor serei atento;\n",
            "Antes, e com tal zelo, e sempre, e tanto;\n",
            "Que mesmo em face do maior encanto;\n",
            "Dele se encante mais meu pensamento.\n",
            "\n",
            "Quero vivê-lo em cada vão momento;\n",
            "E em seu louvor hei de espalhar meu canto;\n",
            "E rir meu riso e derramar meu pranto;\n",
            "Ao seu pesar ou seu contentamento.\n",
            "\n",
            "E assim, quando mais tarde me procure;\n",
            "Quem sabe a morte, angústia de quem vive;\n",
            "Quem sabe a solidão, fim de quem ama.\n",
            "\n",
            "Eu possa me dizer do amor (que tive);\n",
            "Que não seja imortal, posto que é chama;\n",
            "Mas que seja infinito enquanto dure.\n",
            "\n",
            "Eu te amo;\n",
            "\n",
            "Eu te amo porque te amo;\n",
            "Não precisas ser amante,\n",
            "e nem sempre sabes sê-lo.\n",
            "Eu te amo porque te amo.\n",
            "Amor é estado de graça\n",
            "e com amor não se paga.\n",
            "\n",
            "Amor é dado de graça,\n",
            "é semeado no vento,\n",
            "na cachoeira, no eclipse.\n",
            "Amor foge a dicionários\n",
            "e a regulamentos vários.\n",
            "\n",
            "Eu te amo porque não amo\n",
            "bastante ou de mais a mim.\n",
            "Porque amor não se troca,\n",
            "não se conjuga nem se ama.\n",
            "Porque amor é amor a nada,\n",
            "feliz e forte em si mesmo.\n",
            "\n",
            "Amor é primo da morte,\n",
            "e da morte vencedor,\n",
            "por mais que o matem (e matam)\n",
            "a cada instante de amor.\n",
            "\n",
            "\n"
          ]
        }
      ]
    },
    {
      "cell_type": "code",
      "source": [
        "# Separando as frases em palavras\n",
        "palavras = bancoDeFrases.split()\n",
        "\n",
        "# Criando pares no modelo [palavra, palavra sucessora]\n",
        "paresDeSucessao = list()\n",
        "for i in range(len(palavras) - 1):\n",
        "  paresDeSucessao.append([palavras[i], palavras[i + 1]])"
      ],
      "metadata": {
        "id": "drmLn-mEa9CU"
      },
      "execution_count": null,
      "outputs": []
    },
    {
      "cell_type": "code",
      "source": [
        "# Criando um dicionário com todas as palavras sucessoras de todas as palavras\n",
        "# usando os paresDeSucessao\n",
        "dicionarioDasPalavras = dict()\n",
        "\n",
        "for palavra, palavraSucessora in paresDeSucessao:\n",
        "\n",
        "    if palavra in dicionarioDasPalavras.keys():\n",
        "        dicionarioDasPalavras[palavra].append(palavraSucessora)\n",
        "    else:\n",
        "        dicionarioDasPalavras[palavra] = [palavraSucessora]\n",
        "\n",
        "dicionarioDasPalavras[palavras[-1]] = [np.random.choice(palavras)]\n",
        "print(dicionarioDasPalavras)"
      ],
      "metadata": {
        "colab": {
          "base_uri": "https://localhost:8080/"
        },
        "id": "HrmyQGwQd_nV",
        "outputId": "a9a35a1e-7ddc-4895-8c4f-ed4fbb158097"
      },
      "execution_count": null,
      "outputs": [
        {
          "output_type": "stream",
          "name": "stdout",
          "text": [
            "{'Amor': ['é', 'é', 'é', 'foge', 'é'], 'é': ['um', 'o', 'não', 'chama;', 'estado', 'dado', 'semeado', 'amor', 'primo'], 'um': ['fogo', 'contentamento', 'não', 'andar', 'cuidar', 'cego.'], 'fogo': ['que'], 'que': ['arde', 'dói,', 'desatina', 'bem', 'ganha', 'é', 'seja', 'o'], 'arde': ['sem'], 'sem': ['se', 'doer.', 'fim'], 'se': ['ver;', 'sente;', 'perder;', 'encante', 'paga.', 'troca,', 'conjuga', 'ama.'], 'ver;': ['É'], 'É': ['ferida', 'um', 'dor', 'um', 'um', 'nunca', 'um', 'querer', 'servir', 'ter'], 'ferida': ['que'], 'dói,': ['e'], 'e': ['não', 'contente;', 'de', 'de', 'a', 'amar-te', 'morrerei', 'fogo.', 'com', 'sempre,', 'tanto;', 'derramar', 'nem', 'com', 'a', 'forte', 'da'], 'não': ['se', 'querer', 'querer-te', 'te', 'ver-te', 'seja', 'se', 'amo', 'se', 'se'], 'sente;': ['É'], 'contentamento': ['descontente;'], 'descontente;': ['É'], 'dor': ['que'], 'desatina': ['sem'], 'doer.': ['É'], 'querer': ['mais', 'estar'], 'mais': ['que', 'meu', 'tarde', 'a', 'que'], 'bem': ['querer;'], 'querer;': ['É'], 'andar': ['solitário'], 'solitário': ['entre'], 'entre': ['a'], 'a': ['gente;', 'quem', 'si', 'não', 'ti', 'ti', 'medida', 'luz', 'chave', 'sangue', 'morte,', 'solidão,', 'dicionários', 'regulamentos', 'mim.', 'nada,', 'cada'], 'gente;': ['É'], 'nunca': ['contentar-se'], 'contentar-se': ['e'], 'contente;': ['É'], 'cuidar': ['que'], 'ganha': ['em'], 'em': ['se', 'face', 'cada', 'seu', 'si'], 'perder;': ['É'], 'estar': ['preso'], 'preso': ['por'], 'por': ['vontade;', 'mais'], 'vontade;': ['É'], 'servir': ['a'], 'quem': ['vence,', 'nos', 'vive;', 'ama.'], 'vence,': ['o'], 'o': ['vencedor;', 'mesmo', 'seu', 'matem'], 'vencedor;': ['É'], 'ter': ['com'], 'com': ['quem', 'tal', 'amor'], 'nos': ['mata,'], 'mata,': ['lealdade.'], 'lealdade.': ['Mas'], 'Mas': ['como', 'que'], 'como': ['causar', 'um'], 'causar': ['pode'], 'pode': ['seu'], 'seu': ['favor;', 'raio', 'louvor', 'pesar', 'contentamento.'], 'favor;': ['Nos'], 'Nos': ['corações'], 'corações': ['humanos'], 'humanos': ['amizade;'], 'amizade;': ['Se'], 'Se': ['tão'], 'tão': ['contrário'], 'contrário': ['a'], 'si': ['é', 'mesmo.'], 'mesmo': ['Amor.', 'em'], 'Amor.': ['Não'], 'Não': ['te', 'precisas'], 'te': ['quero', 'quero;', 'espero;', 'suplico;', 'quero;', 'quero,', 'amo;', 'amo', 'amo;', 'amo', 'amo.', 'amo'], 'quero': ['senão'], 'senão': ['porque'], 'porque': ['te', 'a', 'te', 'te', 'te', 'te', 'não'], 'quero;': ['e', 'a', 'porque'], 'de': ['querer-te', 'esperar-te', 'Janeiro;', 'amor', 'espalhar', 'quem', 'quem', 'graça', 'graça,', 'mais', 'amor.'], 'querer-te': ['a', 'chego;'], 'chego;': ['e'], 'esperar-te': ['quando'], 'quando': ['não', 'mais'], 'espero;': ['passa'], 'passa': ['meu'], 'meu': ['coração', 'amor', 'coração', 'amor', 'pensamento.', 'canto;', 'riso', 'pranto;'], 'coração': ['do', 'inteiro;'], 'do': ['frio', 'meu', 'sossego.', 'maior', 'amor'], 'frio': ['ao'], 'ao': ['fogo.', 'meu'], 'fogo.': ['Quero-te', 'De'], 'Quero-te': ['apenas'], 'apenas': ['porque', 'eu'], 'ti': ['eu', 'odeio'], 'eu': ['quero;', 'morro;'], 'odeio': ['sem'], 'fim': ['e,', 'de'], 'e,': ['odiando-te,'], 'odiando-te,': ['te'], 'suplico;': ['e'], 'medida': ['do'], 'amor': ['viajante;', 'porque', 'serei', '(que', 'não', 'não', 'é', 'a'], 'viajante;': ['é'], 'ver-te': ['e'], 'amar-te': ['como'], 'cego.': ['Consumirá'], 'Consumirá': ['talvez'], 'talvez': ['a'], 'luz': ['de'], 'Janeiro;': ['o'], 'raio': ['cruel,'], 'cruel,': ['meu'], 'inteiro;': ['roubando-me'], 'roubando-me': ['a'], 'chave': ['do'], 'sossego.': ['Nesta'], 'Nesta': ['história'], 'história': ['apenas'], 'morro;': ['e'], 'morrerei': ['de'], 'quero,': ['amor,'], 'amor,': ['a'], 'sangue': ['e'], 'De': ['tudo'], 'tudo': ['ao'], 'serei': ['atento;'], 'atento;': ['Antes,'], 'Antes,': ['e'], 'tal': ['zelo,'], 'zelo,': ['e'], 'sempre,': ['e'], 'tanto;': ['Que'], 'Que': ['mesmo', 'não'], 'face': ['do'], 'maior': ['encanto;'], 'encanto;': ['Dele'], 'Dele': ['se'], 'encante': ['mais'], 'pensamento.': ['Quero'], 'Quero': ['vivê-lo'], 'vivê-lo': ['em'], 'cada': ['vão', 'instante'], 'vão': ['momento;'], 'momento;': ['E'], 'E': ['em', 'rir', 'assim,'], 'louvor': ['hei'], 'hei': ['de'], 'espalhar': ['meu'], 'canto;': ['E'], 'rir': ['meu'], 'riso': ['e'], 'derramar': ['meu'], 'pranto;': ['Ao'], 'Ao': ['seu'], 'pesar': ['ou'], 'ou': ['seu', 'de'], 'contentamento.': ['E'], 'assim,': ['quando'], 'tarde': ['me'], 'me': ['procure;', 'dizer'], 'procure;': ['Quem'], 'Quem': ['sabe', 'sabe'], 'sabe': ['a', 'a'], 'morte,': ['angústia', 'e'], 'angústia': ['de'], 'vive;': ['Quem'], 'solidão,': ['fim'], 'ama.': ['Eu', 'Porque'], 'Eu': ['possa', 'te', 'te', 'te', 'te'], 'possa': ['me'], 'dizer': ['do'], '(que': ['tive);'], 'tive);': ['Que'], 'seja': ['imortal,', 'infinito'], 'imortal,': ['posto'], 'posto': ['que'], 'chama;': ['Mas'], 'infinito': ['enquanto'], 'enquanto': ['dure.'], 'dure.': ['Eu'], 'amo;': ['Eu', 'Não'], 'amo': ['porque', 'porque', 'porque', 'bastante'], 'precisas': ['ser'], 'ser': ['amante,'], 'amante,': ['e'], 'nem': ['sempre', 'se'], 'sempre': ['sabes'], 'sabes': ['sê-lo.'], 'sê-lo.': ['Eu'], 'amo.': ['Amor'], 'estado': ['de'], 'graça': ['e'], 'paga.': ['Amor'], 'dado': ['de'], 'graça,': ['é'], 'semeado': ['no'], 'no': ['vento,', 'eclipse.'], 'vento,': ['na'], 'na': ['cachoeira,'], 'cachoeira,': ['no'], 'eclipse.': ['Amor'], 'foge': ['a'], 'dicionários': ['e'], 'regulamentos': ['vários.'], 'vários.': ['Eu'], 'bastante': ['ou'], 'mim.': ['Porque'], 'Porque': ['amor', 'amor'], 'troca,': ['não'], 'conjuga': ['nem'], 'nada,': ['feliz'], 'feliz': ['e'], 'forte': ['em'], 'mesmo.': ['Amor'], 'primo': ['da'], 'da': ['morte,', 'morte'], 'morte': ['vencedor,'], 'vencedor,': ['por'], 'matem': ['(e'], '(e': ['matam)'], 'matam)': ['a'], 'instante': ['de'], 'amor.': ['É']}\n"
          ]
        }
      ]
    },
    {
      "cell_type": "code",
      "source": [
        "def criaLinha():\n",
        "\n",
        "  nPalavras = 6\n",
        "\n",
        "  # Selecionando a primeira palavra da linha de forma aleatória\n",
        "  primeiraPalavra = np.random.choice(palavras)\n",
        "\n",
        "  # Garantindo que a primeira palavra possui letra maiúscula\n",
        "  while primeiraPalavra.islower():\n",
        "    primeiraPalavra = np.random.choice(palavras)\n",
        "\n",
        "  linha = [primeiraPalavra]\n",
        "\n",
        "  # Gerando a linha\n",
        "  linha = [primeiraPalavra]\n",
        "  for i in range(nPalavras):\n",
        "    linha.append(np.random.choice(dicionarioDasPalavras[linha[-1]]))\n",
        "\n",
        "  # Imprimindo o resultado\n",
        "  print(' '.join(linha))"
      ],
      "metadata": {
        "id": "eaMytROAAlCn"
      },
      "execution_count": null,
      "outputs": []
    },
    {
      "cell_type": "code",
      "source": [
        "# Criando a estrutura de um soneto para o poema\n",
        "for _ in range(2):\n",
        "  for _ in range(4):\n",
        "    criaLinha()\n",
        "  print()\n",
        "\n",
        "for _ in range(2):\n",
        "  for _ in range(3):\n",
        "    criaLinha()\n",
        "  print()"
      ],
      "metadata": {
        "colab": {
          "base_uri": "https://localhost:8080/"
        },
        "id": "zK1PKWr8Bgra",
        "outputId": "999719a3-575d-4415-a588-f4e2baab2c94"
      },
      "execution_count": null,
      "outputs": [
        {
          "output_type": "stream",
          "name": "stdout",
          "text": [
            "Mas como causar pode seu raio cruel,\n",
            "É servir a gente; É servir a\n",
            "Amor é amor viajante; é amor não\n",
            "E em cada instante de amor a\n",
            "\n",
            "É dor que o seu louvor hei\n",
            "Amor é dado de Janeiro; o vencedor;\n",
            "Ao seu favor; Nos corações humanos amizade;\n",
            "Ao seu contentamento. E em cada vão\n",
            "\n",
            "Quero-te apenas porque te amo; Não precisas\n",
            "Consumirá talvez a medida do meu coração\n",
            "Janeiro; o mesmo em face do amor\n",
            "\n",
            "Mas que é dado de graça e\n",
            "É um fogo que bem querer; É\n",
            "Que mesmo em si mesmo. Amor é\n",
            "\n"
          ]
        }
      ]
    },
    {
      "cell_type": "markdown",
      "source": [
        "## Exemplos de resultados obtidos"
      ],
      "metadata": {
        "id": "7tq-qsOrEAeL"
      }
    },
    {
      "cell_type": "markdown",
      "source": [
        "### Exemplo 1"
      ],
      "metadata": {
        "id": "VOY9XpnkEzfI"
      }
    },
    {
      "cell_type": "markdown",
      "source": [
        "![image.png](data:image/png;base64,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)"
      ],
      "metadata": {
        "id": "ZcGkCDsHD-Sd"
      }
    },
    {
      "cell_type": "markdown",
      "source": [
        "### Exemplo 2"
      ],
      "metadata": {
        "id": "Hv6r1HufE24y"
      }
    },
    {
      "cell_type": "markdown",
      "source": [
        "![Imagem do WhatsApp de 2022-11-30 à(s) 16.36.47.jpg](data:image/jpeg;base64,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)"
      ],
      "metadata": {
        "id": "S2URYME2EwjP"
      }
    }
  ]
}